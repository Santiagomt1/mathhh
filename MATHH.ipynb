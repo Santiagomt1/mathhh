{
  "nbformat": 4,
  "nbformat_minor": 0,
  "metadata": {
    "colab": {
      "provenance": [],
      "authorship_tag": "ABX9TyO2WO3fDujPVuBK4AY8eNGs",
      "include_colab_link": true
    },
    "kernelspec": {
      "name": "python3",
      "display_name": "Python 3"
    },
    "language_info": {
      "name": "python"
    }
  },
  "cells": [
    {
      "cell_type": "markdown",
      "metadata": {
        "id": "view-in-github",
        "colab_type": "text"
      },
      "source": [
        "<a href=\"https://colab.research.google.com/github/Santiagomt1/mathhh/blob/main/MATHH.ipynb\" target=\"_parent\"><img src=\"https://colab.research.google.com/assets/colab-badge.svg\" alt=\"Open In Colab\"/></a>"
      ]
    },
    {
      "cell_type": "code",
      "source": [
        "# https://docs.python.org/es/3/library/math.html\n",
        "#libreria math url\n",
        "\n",
        "import math\n",
        "\n",
        "print(math.pi) #\n",
        "print(math.e) #\n",
        "print(math.exp(3)) #exponencial\n",
        "print(math.sqrt(2)) #raiz\n",
        "print(5e3)\n",
        "print(3e-2)\n",
        "#seno #coseno #tangente\n",
        "print(\"\\nMath comandos: \\n\")\n",
        "x = 1.553\n",
        "print(round(x))\n",
        "print(round(x, 1))\n",
        "print(math.ceil(x)) #redondeo hacia arriba\n",
        "print(math.floor(x)) #redondeo hacia abajo\n",
        "\n",
        "#listas\n",
        "numeros=[1,2,3,4,5]\n",
        "print(math.fsum(numeros)) #suma lista\n",
        "\n",
        "print(math.fabs(-4)) #valor absoluto |x|\n",
        "print(math.fmod(17, 6)) #modulo de algo\n",
        "print(math.exp(2))  # e elevado al cuadrado\n",
        "print(math.pi) #valor de pi\n",
        "\n",
        "#funciones de potencia y raiz\n",
        "\n",
        "print(math.pow(5, 6)) #potencia\n",
        "print(math.sqrt(16)) # raiz\n",
        "\n",
        "\n",
        "#sacar hipotenusa\n",
        "\n",
        "h = math.hypot(1.5, 1.5) #calcular hipotenusa\n",
        "print(h)\n",
        "\n",
        "r = math.radians(45)  #conversion radianes\n",
        "print('valor en radianes: {0}'.format(r))\n",
        "\n",
        "print(math.sin(67)) #seno sin coseno cos\n",
        "print(math.sin(math.radians(30)))\n",
        "\n",
        "print(math.remainder(16, 2))  #mostrar si son divisibles o no, como residuo"
      ],
      "metadata": {
        "id": "QC3jCjTj4x0O"
      },
      "execution_count": null,
      "outputs": []
    }
  ]
}