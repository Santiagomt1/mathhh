{
  "nbformat": 4,
  "nbformat_minor": 0,
  "metadata": {
    "colab": {
      "provenance": [],
      "authorship_tag": "ABX9TyPGococURnF/jQw2XMsMUIG",
      "include_colab_link": true
    },
    "kernelspec": {
      "name": "python3",
      "display_name": "Python 3"
    },
    "language_info": {
      "name": "python"
    }
  },
  "cells": [
    {
      "cell_type": "markdown",
      "metadata": {
        "id": "view-in-github",
        "colab_type": "text"
      },
      "source": [
        "<a href=\"https://colab.research.google.com/github/Santiagomt1/mathhh/blob/main/MATHH.ipynb\" target=\"_parent\"><img src=\"https://colab.research.google.com/assets/colab-badge.svg\" alt=\"Open In Colab\"/></a>"
      ]
    },
    {
      "cell_type": "code",
      "execution_count": 3,
      "metadata": {
        "colab": {
          "base_uri": "https://localhost:8080/"
        },
        "id": "woAHmSn6kDJX",
        "outputId": "e75444cf-2012-41cc-a840-fe81f76cc444"
      },
      "outputs": [
        {
          "output_type": "stream",
          "name": "stdout",
          "text": [
            "3.141592653589793\n",
            "2.718281828459045\n",
            "20.085536923187668\n",
            "1.4142135623730951\n",
            "5000.0\n",
            "0.03\n"
          ]
        }
      ],
      "source": [
        "import math\n",
        "\n",
        "print(math.pi) #\n",
        "print(math.e) #\n",
        "print(math.exp(3)) #exponencial\n",
        "print(math.sqrt(2)) #raiz\n",
        "print(5e3)\n",
        "print(3e-2)\n",
        "#seno #coseno #tangente"
      ]
    }
  ]
}